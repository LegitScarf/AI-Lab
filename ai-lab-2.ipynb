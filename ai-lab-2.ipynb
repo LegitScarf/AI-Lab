{
 "cells": [
  {
   "cell_type": "code",
   "execution_count": 1,
   "id": "cdd77e07",
   "metadata": {
    "execution": {
     "iopub.execute_input": "2024-12-14T08:12:27.545530Z",
     "iopub.status.busy": "2024-12-14T08:12:27.545021Z",
     "iopub.status.idle": "2024-12-14T08:12:27.557752Z",
     "shell.execute_reply": "2024-12-14T08:12:27.556383Z"
    },
    "papermill": {
     "duration": 0.01944,
     "end_time": "2024-12-14T08:12:27.560276",
     "exception": false,
     "start_time": "2024-12-14T08:12:27.540836",
     "status": "completed"
    },
    "tags": []
   },
   "outputs": [
    {
     "name": "stdout",
     "output_type": "stream",
     "text": [
      "{'A': ['B', 'C'], 'B': ['D', 'E'], 'C': ['F'], 'D': [], 'E': ['F'], 'F': []}\n",
      "DFS Traversal (Recursive):\n",
      "A B D E F C "
     ]
    }
   ],
   "source": [
    "def dfs_recursive(graph, node, visited):\n",
    "    if node not in visited:\n",
    "        print(node, end=\" \")\n",
    "        visited.add(node)\n",
    "        for neighbor in graph[node]:\n",
    "            dfs_recursive(graph,neighbor,visited)\n",
    "\n",
    "graph = {\n",
    "    'A':['B','C'],\n",
    "    'B':['D','E'],\n",
    "    'C':['F'],\n",
    "    'D':[],\n",
    "    'E':['F'],\n",
    "    'F':[]\n",
    "}\n",
    "print(graph)\n",
    "print(\"DFS Traversal (Recursive):\")\n",
    "visited_set = set()\n",
    "dfs_recursive(graph,'A',visited_set)"
   ]
  },
  {
   "cell_type": "code",
   "execution_count": 2,
   "id": "e9428953",
   "metadata": {
    "execution": {
     "iopub.execute_input": "2024-12-14T08:12:27.565648Z",
     "iopub.status.busy": "2024-12-14T08:12:27.565258Z",
     "iopub.status.idle": "2024-12-14T08:12:27.573230Z",
     "shell.execute_reply": "2024-12-14T08:12:27.572101Z"
    },
    "papermill": {
     "duration": 0.013503,
     "end_time": "2024-12-14T08:12:27.575741",
     "exception": false,
     "start_time": "2024-12-14T08:12:27.562238",
     "status": "completed"
    },
    "tags": []
   },
   "outputs": [
    {
     "name": "stdout",
     "output_type": "stream",
     "text": [
      "{'A': ['B', 'C'], 'B': ['D', 'E'], 'C': ['F'], 'D': [], 'E': ['F'], 'F': []}\n",
      "BFS Traversal:\n",
      "A B C D E F "
     ]
    }
   ],
   "source": [
    "from collections import deque\n",
    "\n",
    "def bfs(graph,start_node):\n",
    "    visited = set()\n",
    "    queue = deque([start_node])\n",
    "    \n",
    "    while queue:\n",
    "        node = queue.popleft()\n",
    "        if node not in visited:\n",
    "            print(node, end=\" \") \n",
    "            visited.add(node)  \n",
    "            for neighbor in graph[node]:\n",
    "                if neighbor not in visited:\n",
    "                    queue.append(neighbor)\n",
    "\n",
    "print(graph)\n",
    "print(\"BFS Traversal:\")\n",
    "bfs(graph,'A')"
   ]
  }
 ],
 "metadata": {
  "kaggle": {
   "accelerator": "none",
   "dataSources": [],
   "dockerImageVersionId": 30804,
   "isGpuEnabled": false,
   "isInternetEnabled": true,
   "language": "python",
   "sourceType": "notebook"
  },
  "kernelspec": {
   "display_name": "Python 3",
   "language": "python",
   "name": "python3"
  },
  "language_info": {
   "codemirror_mode": {
    "name": "ipython",
    "version": 3
   },
   "file_extension": ".py",
   "mimetype": "text/x-python",
   "name": "python",
   "nbconvert_exporter": "python",
   "pygments_lexer": "ipython3",
   "version": "3.10.14"
  },
  "papermill": {
   "default_parameters": {},
   "duration": 3.829003,
   "end_time": "2024-12-14T08:12:27.998134",
   "environment_variables": {},
   "exception": null,
   "input_path": "__notebook__.ipynb",
   "output_path": "__notebook__.ipynb",
   "parameters": {},
   "start_time": "2024-12-14T08:12:24.169131",
   "version": "2.6.0"
  }
 },
 "nbformat": 4,
 "nbformat_minor": 5
}
